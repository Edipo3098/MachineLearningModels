{
 "cells": [
  {
   "cell_type": "code",
   "execution_count": 23,
   "source": [
    "import numpy as np\r\n",
    "import math\r\n",
    "W = np.array([[1,1,1],[2,2,2]])\r\n",
    "X = np.array([[0,0,-1],[0,1,-1],[1,0,-1],[1,1,-1]])\r\n",
    "print(W)\r\n",
    "print(X)\r\n",
    "Output = X[0,:]\r\n",
    "print(Output)"
   ],
   "outputs": [
    {
     "output_type": "stream",
     "name": "stdout",
     "text": [
      "[[1 1 1]\n",
      " [2 2 2]]\n",
      "[[ 0  0 -1]\n",
      " [ 0  1 -1]\n",
      " [ 1  0 -1]\n",
      " [ 1  1 -1]]\n",
      "[ 0  0 -1]\n"
     ]
    }
   ],
   "metadata": {}
  },
  {
   "cell_type": "code",
   "execution_count": 29,
   "source": [
    "Output =np.sum(W*X[0,:],axis = 1)\r\n",
    "print(Output)\r\n",
    "Outpu2 = 1/(1+np.exp(-Output))\r\n",
    "Output2 = Outpu2.reshape((-1,1))\r\n",
    "print(Output2)"
   ],
   "outputs": [
    {
     "output_type": "stream",
     "name": "stdout",
     "text": [
      "[-1 -2]\n",
      "[[0.26894142]\n",
      " [0.11920292]]\n"
     ]
    }
   ],
   "metadata": {}
  },
  {
   "cell_type": "code",
   "execution_count": 33,
   "source": [
    "W2 = np.array([[1,1,1]])\r\n",
    "X2 = np.array([[0,0,-1]])\r\n",
    "Ool = np.sum(W2*X2)\r\n",
    "Ool =  1/(1+np.exp(-Ool))\r\n",
    "Ool"
   ],
   "outputs": [
    {
     "output_type": "execute_result",
     "data": {
      "text/plain": [
       "0.2689414213699951"
      ]
     },
     "metadata": {},
     "execution_count": 33
    }
   ],
   "metadata": {}
  },
  {
   "cell_type": "code",
   "execution_count": null,
   "source": [],
   "outputs": [],
   "metadata": {}
  }
 ],
 "metadata": {
  "orig_nbformat": 4,
  "language_info": {
   "name": "python",
   "version": "3.8.11",
   "mimetype": "text/x-python",
   "codemirror_mode": {
    "name": "ipython",
    "version": 3
   },
   "pygments_lexer": "ipython3",
   "nbconvert_exporter": "python",
   "file_extension": ".py"
  },
  "kernelspec": {
   "name": "python3",
   "display_name": "Python 3.8.11 64-bit ('Machine_learning': conda)"
  },
  "interpreter": {
   "hash": "c57dc8b6db3bf076f59f952328837f63c1aa36b68909168030e26ea224aa78db"
  }
 },
 "nbformat": 4,
 "nbformat_minor": 2
}